{
 "cells": [
  {
   "cell_type": "markdown",
   "metadata": {},
   "source": [
    "# **Description:**\n",
    "\n",
    "Anomaly detection using an ARIMA model involves fitting the model to historical time series data to predict future values. The model's residuals (differences between actual and predicted values) are then analyzed. Anomalies are identified by setting a threshold, often based on standard deviations of these residuals. Data points where residuals exceed this threshold are considered anomalies. This approach is useful for detecting significant deviations from the expected pattern, such as unexpected spikes or drops, and can help in identifying unusual events or errors in the data."
   ]
  },
  {
   "cell_type": "markdown",
   "metadata": {},
   "source": [
    "# 1.Import Libraries"
   ]
  },
  {
   "cell_type": "code",
   "execution_count": 67,
   "metadata": {},
   "outputs": [],
   "source": [
    "import  numpy as np\n",
    "import pandas as pd\n",
    "import matplotlib.pyplot as plt\n",
    "import pmdarima"
   ]
  },
  {
   "cell_type": "markdown",
   "metadata": {},
   "source": [
    "# 2.Import Dataset\n",
    "\n",
    "This dataset was imported from kaggle website. It is a daily website visitors dataset .It consists of many independent features like page loads, Unique visits, First time visits, returning visits..etc. But I want to find anomalies on Page loads"
   ]
  },
  {
   "cell_type": "markdown",
   "metadata": {},
   "source": [
    "# Reference: \n",
    "https://www.kaggle.com/datasets/bobnau/daily-website-visitors"
   ]
  },
  {
   "cell_type": "code",
   "execution_count": 68,
   "metadata": {},
   "outputs": [
    {
     "name": "stdout",
     "output_type": "stream",
     "text": [
      "(2167, 6)\n"
     ]
    },
    {
     "data": {
      "text/html": [
       "<div>\n",
       "<style scoped>\n",
       "    .dataframe tbody tr th:only-of-type {\n",
       "        vertical-align: middle;\n",
       "    }\n",
       "\n",
       "    .dataframe tbody tr th {\n",
       "        vertical-align: top;\n",
       "    }\n",
       "\n",
       "    .dataframe thead th {\n",
       "        text-align: right;\n",
       "    }\n",
       "</style>\n",
       "<table border=\"1\" class=\"dataframe\">\n",
       "  <thead>\n",
       "    <tr style=\"text-align: right;\">\n",
       "      <th></th>\n",
       "      <th>Day.Of.Week</th>\n",
       "      <th>Date</th>\n",
       "      <th>Page.Loads</th>\n",
       "      <th>Unique.Visits</th>\n",
       "      <th>First.Time.Visits</th>\n",
       "      <th>Returning.Visits</th>\n",
       "    </tr>\n",
       "  </thead>\n",
       "  <tbody>\n",
       "    <tr>\n",
       "      <th>0</th>\n",
       "      <td>1.0</td>\n",
       "      <td>9/14/2014</td>\n",
       "      <td>2146.0</td>\n",
       "      <td>1582.0</td>\n",
       "      <td>1430.0</td>\n",
       "      <td>152.0</td>\n",
       "    </tr>\n",
       "    <tr>\n",
       "      <th>1</th>\n",
       "      <td>2.0</td>\n",
       "      <td>9/15/2014</td>\n",
       "      <td>3621.0</td>\n",
       "      <td>2528.0</td>\n",
       "      <td>2297.0</td>\n",
       "      <td>231.0</td>\n",
       "    </tr>\n",
       "    <tr>\n",
       "      <th>2</th>\n",
       "      <td>3.0</td>\n",
       "      <td>9/16/2014</td>\n",
       "      <td>3698.0</td>\n",
       "      <td>2630.0</td>\n",
       "      <td>2352.0</td>\n",
       "      <td>278.0</td>\n",
       "    </tr>\n",
       "    <tr>\n",
       "      <th>3</th>\n",
       "      <td>4.0</td>\n",
       "      <td>9/17/2014</td>\n",
       "      <td>3667.0</td>\n",
       "      <td>2614.0</td>\n",
       "      <td>2327.0</td>\n",
       "      <td>287.0</td>\n",
       "    </tr>\n",
       "    <tr>\n",
       "      <th>4</th>\n",
       "      <td>5.0</td>\n",
       "      <td>9/18/2014</td>\n",
       "      <td>3316.0</td>\n",
       "      <td>2366.0</td>\n",
       "      <td>2130.0</td>\n",
       "      <td>236.0</td>\n",
       "    </tr>\n",
       "  </tbody>\n",
       "</table>\n",
       "</div>"
      ],
      "text/plain": [
       "   Day.Of.Week       Date  Page.Loads  Unique.Visits  First.Time.Visits  \\\n",
       "0          1.0  9/14/2014      2146.0         1582.0             1430.0   \n",
       "1          2.0  9/15/2014      3621.0         2528.0             2297.0   \n",
       "2          3.0  9/16/2014      3698.0         2630.0             2352.0   \n",
       "3          4.0  9/17/2014      3667.0         2614.0             2327.0   \n",
       "4          5.0  9/18/2014      3316.0         2366.0             2130.0   \n",
       "\n",
       "   Returning.Visits  \n",
       "0             152.0  \n",
       "1             231.0  \n",
       "2             278.0  \n",
       "3             287.0  \n",
       "4             236.0  "
      ]
     },
     "execution_count": 68,
     "metadata": {},
     "output_type": "execute_result"
    }
   ],
   "source": [
    "df=pd.read_csv('daily-website-visitors.csv')\n",
    "df = df.replace(',', '', regex=True)\n",
    "df=df.drop(['Row','Day'],axis=1)\n",
    "columns_to_convert=['Day.Of.Week','Page.Loads','Unique.Visits','First.Time.Visits','Returning.Visits']\n",
    "df[columns_to_convert] = df[columns_to_convert].astype(float)\n",
    "df=df.dropna()\n",
    "print(df.shape)\n",
    "df.head()"
   ]
  },
  {
   "cell_type": "markdown",
   "metadata": {},
   "source": [
    "Here we changed strings to int and then deleted 'Row' ,'Day'. We had also deleted rows if any NaN value present."
   ]
  },
  {
   "cell_type": "markdown",
   "metadata": {},
   "source": [
    "# 3. Check for stationarity"
   ]
  },
  {
   "cell_type": "code",
   "execution_count": 69,
   "metadata": {},
   "outputs": [
    {
     "name": "stdout",
     "output_type": "stream",
     "text": [
      "-4.2838214361876625\n",
      "0.00047375782574651055\n",
      "26\n",
      "2140\n",
      "\t 1% ; -3.4334094211542983\n",
      "\t 5% ; -2.8628915360971003\n",
      "\t 10% ; -2.5674894918770197\n"
     ]
    }
   ],
   "source": [
    "from statsmodels.tsa.stattools import adfuller\n",
    "def ad_test(dataset):\n",
    "    dftest=adfuller(dataset,autolag='AIC')\n",
    "    print(dftest[0])\n",
    "    print(dftest[1])\n",
    "    print(dftest[2])\n",
    "    print(dftest[3])\n",
    "    for key,value in dftest[4].items():\n",
    "        print('\\t',key,\";\",value)\n",
    "ad_test(df['Page.Loads'])"
   ]
  },
  {
   "cell_type": "markdown",
   "metadata": {},
   "source": [
    "We had got p-value as 0.0004737, critical values as 1% ; -3.4334094211542983, 5% ; -2.8628915360971003, 10% ; -2.5674894918770197. Which mean our dataset has stationarity and god for anomaly detection using ARIMA model"
   ]
  },
  {
   "cell_type": "markdown",
   "metadata": {},
   "source": [
    "# 4. Import auto arima"
   ]
  },
  {
   "cell_type": "code",
   "execution_count": 70,
   "metadata": {},
   "outputs": [
    {
     "name": "stdout",
     "output_type": "stream",
     "text": [
      "Performing stepwise search to minimize aic\n",
      " ARIMA(2,0,2)(0,0,0)[0] intercept   : AIC=34769.696, Time=1.60 sec\n",
      " ARIMA(0,0,0)(0,0,0)[0] intercept   : AIC=37394.682, Time=0.02 sec\n",
      " ARIMA(1,0,0)(0,0,0)[0] intercept   : AIC=35636.779, Time=0.06 sec\n",
      " ARIMA(0,0,1)(0,0,0)[0] intercept   : AIC=35427.113, Time=0.34 sec\n",
      " ARIMA(0,0,0)(0,0,0)[0]             : AIC=42444.548, Time=0.01 sec\n",
      " ARIMA(1,0,2)(0,0,0)[0] intercept   : AIC=34962.902, Time=0.66 sec\n",
      " ARIMA(2,0,1)(0,0,0)[0] intercept   : AIC=34797.573, Time=1.01 sec\n",
      " ARIMA(3,0,2)(0,0,0)[0] intercept   : AIC=34816.720, Time=1.35 sec\n",
      " ARIMA(2,0,3)(0,0,0)[0] intercept   : AIC=35303.433, Time=1.46 sec\n",
      " ARIMA(1,0,1)(0,0,0)[0] intercept   : AIC=34871.882, Time=0.12 sec\n",
      " ARIMA(1,0,3)(0,0,0)[0] intercept   : AIC=34706.136, Time=1.13 sec\n",
      " ARIMA(0,0,3)(0,0,0)[0] intercept   : AIC=34739.905, Time=1.17 sec\n",
      " ARIMA(1,0,4)(0,0,0)[0] intercept   : AIC=34710.218, Time=1.88 sec\n",
      " ARIMA(0,0,2)(0,0,0)[0] intercept   : AIC=34766.028, Time=0.92 sec\n",
      " ARIMA(0,0,4)(0,0,0)[0] intercept   : AIC=34648.729, Time=2.16 sec\n",
      " ARIMA(0,0,5)(0,0,0)[0] intercept   : AIC=34330.784, Time=3.31 sec\n",
      " ARIMA(1,0,5)(0,0,0)[0] intercept   : AIC=34105.378, Time=4.86 sec\n",
      " ARIMA(2,0,5)(0,0,0)[0] intercept   : AIC=34164.866, Time=4.32 sec\n",
      " ARIMA(2,0,4)(0,0,0)[0] intercept   : AIC=34490.300, Time=2.05 sec\n",
      " ARIMA(1,0,5)(0,0,0)[0]             : AIC=34063.581, Time=1.31 sec\n",
      " ARIMA(0,0,5)(0,0,0)[0]             : AIC=inf, Time=3.22 sec\n",
      " ARIMA(1,0,4)(0,0,0)[0]             : AIC=34582.896, Time=1.07 sec\n",
      " ARIMA(2,0,5)(0,0,0)[0]             : AIC=34065.056, Time=1.66 sec\n",
      " ARIMA(0,0,4)(0,0,0)[0]             : AIC=inf, Time=2.22 sec\n",
      " ARIMA(2,0,4)(0,0,0)[0]             : AIC=34341.769, Time=1.41 sec\n",
      "\n",
      "Best model:  ARIMA(1,0,5)(0,0,0)[0]          \n",
      "Total fit time: 39.333 seconds\n"
     ]
    }
   ],
   "source": [
    "from pmdarima import auto_arima\n",
    "stepwise_fit=auto_arima(df['Page.Loads'],trace=True)"
   ]
  },
  {
   "cell_type": "markdown",
   "metadata": {},
   "source": [
    "We had got best model at order (1,0,5) with AIC=34105.378."
   ]
  },
  {
   "cell_type": "markdown",
   "metadata": {},
   "source": [
    "# 5. Split into Training and Test set"
   ]
  },
  {
   "cell_type": "code",
   "execution_count": null,
   "metadata": {},
   "outputs": [],
   "source": [
    "train_data=df.iloc[:-30]\n",
    "test_data=df.iloc[-30:]\n",
    "print(train_data.shape,test_data.shape)"
   ]
  },
  {
   "cell_type": "markdown",
   "metadata": {},
   "source": [
    "# 6. Build an ARIMA model"
   ]
  },
  {
   "cell_type": "markdown",
   "metadata": {},
   "source": [
    "We should an ARIMA model for train dataset and with order (1,0,5)"
   ]
  },
  {
   "cell_type": "code",
   "execution_count": 71,
   "metadata": {},
   "outputs": [
    {
     "name": "stdout",
     "output_type": "stream",
     "text": [
      "(2137, 6) (30, 6)\n"
     ]
    }
   ],
   "source": [
    "from statsmodels.tsa.arima.model import ARIMA\n",
    "train_data=df.iloc[:-30]\n",
    "test_data=df.iloc[-30:]\n",
    "print(train_data.shape,test_data.shape)\n",
    "model=ARIMA(train_data['Page.Loads'],order=(1,0,5))\n"
   ]
  },
  {
   "cell_type": "code",
   "execution_count": 72,
   "metadata": {},
   "outputs": [
    {
     "name": "stderr",
     "output_type": "stream",
     "text": [
      "c:\\Users\\tejat\\AppData\\Local\\Programs\\Python\\Python311\\Lib\\site-packages\\statsmodels\\base\\model.py:607: ConvergenceWarning: Maximum Likelihood optimization failed to converge. Check mle_retvals\n",
      "  warnings.warn(\"Maximum Likelihood optimization failed to \"\n"
     ]
    }
   ],
   "source": [
    "model=model.fit()"
   ]
  },
  {
   "cell_type": "markdown",
   "metadata": {},
   "source": [
    "**Summary of ARIMA model**"
   ]
  },
  {
   "cell_type": "code",
   "execution_count": 73,
   "metadata": {},
   "outputs": [
    {
     "data": {
      "text/html": [
       "<table class=\"simpletable\">\n",
       "<caption>SARIMAX Results</caption>\n",
       "<tr>\n",
       "  <th>Dep. Variable:</th>      <td>Page.Loads</td>    <th>  No. Observations:  </th>    <td>2137</td>   \n",
       "</tr>\n",
       "<tr>\n",
       "  <th>Model:</th>            <td>ARIMA(1, 0, 5)</td>  <th>  Log Likelihood     </th> <td>-16788.491</td>\n",
       "</tr>\n",
       "<tr>\n",
       "  <th>Date:</th>            <td>Tue, 03 Sep 2024</td> <th>  AIC                </th>  <td>33592.982</td>\n",
       "</tr>\n",
       "<tr>\n",
       "  <th>Time:</th>                <td>16:59:31</td>     <th>  BIC                </th>  <td>33638.319</td>\n",
       "</tr>\n",
       "<tr>\n",
       "  <th>Sample:</th>                  <td>0</td>        <th>  HQIC               </th>  <td>33609.573</td>\n",
       "</tr>\n",
       "<tr>\n",
       "  <th></th>                      <td> - 2137</td>     <th>                     </th>      <td> </td>    \n",
       "</tr>\n",
       "<tr>\n",
       "  <th>Covariance Type:</th>        <td>opg</td>       <th>                     </th>      <td> </td>    \n",
       "</tr>\n",
       "</table>\n",
       "<table class=\"simpletable\">\n",
       "<tr>\n",
       "     <td></td>       <th>coef</th>     <th>std err</th>      <th>z</th>      <th>P>|z|</th>  <th>[0.025</th>    <th>0.975]</th>  \n",
       "</tr>\n",
       "<tr>\n",
       "  <th>const</th>  <td> 4128.7257</td> <td> 2836.130</td> <td>    1.456</td> <td> 0.145</td> <td>-1429.986</td> <td> 9687.438</td>\n",
       "</tr>\n",
       "<tr>\n",
       "  <th>ar.L1</th>  <td>    0.9971</td> <td>    0.005</td> <td>  186.723</td> <td> 0.000</td> <td>    0.987</td> <td>    1.008</td>\n",
       "</tr>\n",
       "<tr>\n",
       "  <th>ma.L1</th>  <td>    0.1752</td> <td>    0.018</td> <td>    9.499</td> <td> 0.000</td> <td>    0.139</td> <td>    0.211</td>\n",
       "</tr>\n",
       "<tr>\n",
       "  <th>ma.L2</th>  <td>   -0.8414</td> <td>    0.017</td> <td>  -49.991</td> <td> 0.000</td> <td>   -0.874</td> <td>   -0.808</td>\n",
       "</tr>\n",
       "<tr>\n",
       "  <th>ma.L3</th>  <td>   -0.6685</td> <td>    0.020</td> <td>  -33.039</td> <td> 0.000</td> <td>   -0.708</td> <td>   -0.629</td>\n",
       "</tr>\n",
       "<tr>\n",
       "  <th>ma.L4</th>  <td>    0.3501</td> <td>    0.017</td> <td>   21.078</td> <td> 0.000</td> <td>    0.318</td> <td>    0.383</td>\n",
       "</tr>\n",
       "<tr>\n",
       "  <th>ma.L5</th>  <td>    0.5737</td> <td>    0.019</td> <td>   30.265</td> <td> 0.000</td> <td>    0.537</td> <td>    0.611</td>\n",
       "</tr>\n",
       "<tr>\n",
       "  <th>sigma2</th> <td> 3.907e+05</td> <td> 1.32e+04</td> <td>   29.685</td> <td> 0.000</td> <td> 3.65e+05</td> <td> 4.17e+05</td>\n",
       "</tr>\n",
       "</table>\n",
       "<table class=\"simpletable\">\n",
       "<tr>\n",
       "  <th>Ljung-Box (L1) (Q):</th>     <td>0.02</td> <th>  Jarque-Bera (JB):  </th> <td>10.97</td>\n",
       "</tr>\n",
       "<tr>\n",
       "  <th>Prob(Q):</th>                <td>0.88</td> <th>  Prob(JB):          </th> <td>0.00</td> \n",
       "</tr>\n",
       "<tr>\n",
       "  <th>Heteroskedasticity (H):</th> <td>0.93</td> <th>  Skew:              </th> <td>0.16</td> \n",
       "</tr>\n",
       "<tr>\n",
       "  <th>Prob(H) (two-sided):</th>    <td>0.33</td> <th>  Kurtosis:          </th> <td>2.84</td> \n",
       "</tr>\n",
       "</table><br/><br/>Warnings:<br/>[1] Covariance matrix calculated using the outer product of gradients (complex-step)."
      ],
      "text/latex": [
       "\\begin{center}\n",
       "\\begin{tabular}{lclc}\n",
       "\\toprule\n",
       "\\textbf{Dep. Variable:}          &    Page.Loads    & \\textbf{  No. Observations:  } &    2137     \\\\\n",
       "\\textbf{Model:}                  &  ARIMA(1, 0, 5)  & \\textbf{  Log Likelihood     } & -16788.491  \\\\\n",
       "\\textbf{Date:}                   & Tue, 03 Sep 2024 & \\textbf{  AIC                } & 33592.982   \\\\\n",
       "\\textbf{Time:}                   &     16:59:31     & \\textbf{  BIC                } & 33638.319   \\\\\n",
       "\\textbf{Sample:}                 &        0         & \\textbf{  HQIC               } & 33609.573   \\\\\n",
       "\\textbf{}                        &      - 2137      & \\textbf{                     } &             \\\\\n",
       "\\textbf{Covariance Type:}        &       opg        & \\textbf{                     } &             \\\\\n",
       "\\bottomrule\n",
       "\\end{tabular}\n",
       "\\begin{tabular}{lcccccc}\n",
       "                & \\textbf{coef} & \\textbf{std err} & \\textbf{z} & \\textbf{P$> |$z$|$} & \\textbf{[0.025} & \\textbf{0.975]}  \\\\\n",
       "\\midrule\n",
       "\\textbf{const}  &    4128.7257  &     2836.130     &     1.456  &         0.145        &    -1429.986    &     9687.438     \\\\\n",
       "\\textbf{ar.L1}  &       0.9971  &        0.005     &   186.723  &         0.000        &        0.987    &        1.008     \\\\\n",
       "\\textbf{ma.L1}  &       0.1752  &        0.018     &     9.499  &         0.000        &        0.139    &        0.211     \\\\\n",
       "\\textbf{ma.L2}  &      -0.8414  &        0.017     &   -49.991  &         0.000        &       -0.874    &       -0.808     \\\\\n",
       "\\textbf{ma.L3}  &      -0.6685  &        0.020     &   -33.039  &         0.000        &       -0.708    &       -0.629     \\\\\n",
       "\\textbf{ma.L4}  &       0.3501  &        0.017     &    21.078  &         0.000        &        0.318    &        0.383     \\\\\n",
       "\\textbf{ma.L5}  &       0.5737  &        0.019     &    30.265  &         0.000        &        0.537    &        0.611     \\\\\n",
       "\\textbf{sigma2} &    3.907e+05  &     1.32e+04     &    29.685  &         0.000        &     3.65e+05    &     4.17e+05     \\\\\n",
       "\\bottomrule\n",
       "\\end{tabular}\n",
       "\\begin{tabular}{lclc}\n",
       "\\textbf{Ljung-Box (L1) (Q):}     & 0.02 & \\textbf{  Jarque-Bera (JB):  } & 10.97  \\\\\n",
       "\\textbf{Prob(Q):}                & 0.88 & \\textbf{  Prob(JB):          } &  0.00  \\\\\n",
       "\\textbf{Heteroskedasticity (H):} & 0.93 & \\textbf{  Skew:              } &  0.16  \\\\\n",
       "\\textbf{Prob(H) (two-sided):}    & 0.33 & \\textbf{  Kurtosis:          } &  2.84  \\\\\n",
       "\\bottomrule\n",
       "\\end{tabular}\n",
       "%\\caption{SARIMAX Results}\n",
       "\\end{center}\n",
       "\n",
       "Warnings: \\newline\n",
       " [1] Covariance matrix calculated using the outer product of gradients (complex-step)."
      ],
      "text/plain": [
       "<class 'statsmodels.iolib.summary.Summary'>\n",
       "\"\"\"\n",
       "                               SARIMAX Results                                \n",
       "==============================================================================\n",
       "Dep. Variable:             Page.Loads   No. Observations:                 2137\n",
       "Model:                 ARIMA(1, 0, 5)   Log Likelihood              -16788.491\n",
       "Date:                Tue, 03 Sep 2024   AIC                          33592.982\n",
       "Time:                        16:59:31   BIC                          33638.319\n",
       "Sample:                             0   HQIC                         33609.573\n",
       "                               - 2137                                         \n",
       "Covariance Type:                  opg                                         \n",
       "==============================================================================\n",
       "                 coef    std err          z      P>|z|      [0.025      0.975]\n",
       "------------------------------------------------------------------------------\n",
       "const       4128.7257   2836.130      1.456      0.145   -1429.986    9687.438\n",
       "ar.L1          0.9971      0.005    186.723      0.000       0.987       1.008\n",
       "ma.L1          0.1752      0.018      9.499      0.000       0.139       0.211\n",
       "ma.L2         -0.8414      0.017    -49.991      0.000      -0.874      -0.808\n",
       "ma.L3         -0.6685      0.020    -33.039      0.000      -0.708      -0.629\n",
       "ma.L4          0.3501      0.017     21.078      0.000       0.318       0.383\n",
       "ma.L5          0.5737      0.019     30.265      0.000       0.537       0.611\n",
       "sigma2      3.907e+05   1.32e+04     29.685      0.000    3.65e+05    4.17e+05\n",
       "===================================================================================\n",
       "Ljung-Box (L1) (Q):                   0.02   Jarque-Bera (JB):                10.97\n",
       "Prob(Q):                              0.88   Prob(JB):                         0.00\n",
       "Heteroskedasticity (H):               0.93   Skew:                             0.16\n",
       "Prob(H) (two-sided):                  0.33   Kurtosis:                         2.84\n",
       "===================================================================================\n",
       "\n",
       "Warnings:\n",
       "[1] Covariance matrix calculated using the outer product of gradients (complex-step).\n",
       "\"\"\""
      ]
     },
     "execution_count": 73,
     "metadata": {},
     "output_type": "execute_result"
    }
   ],
   "source": [
    "model.summary()"
   ]
  },
  {
   "cell_type": "markdown",
   "metadata": {},
   "source": [
    "# 7. Predict results for test dataset"
   ]
  },
  {
   "cell_type": "code",
   "execution_count": 74,
   "metadata": {},
   "outputs": [
    {
     "name": "stdout",
     "output_type": "stream",
     "text": [
      "2137    4143.367933\n",
      "2138    3518.651113\n",
      "2139    3055.157359\n",
      "2140    3037.509643\n",
      "2141    3109.073347\n",
      "2142    3112.065036\n",
      "2143    3115.047947\n",
      "2144    3118.022107\n",
      "2145    3120.987540\n",
      "2146    3123.944272\n",
      "2147    3126.892329\n",
      "2148    3129.831737\n",
      "2149    3132.762520\n",
      "2150    3135.684704\n",
      "2151    3138.598315\n",
      "2152    3141.503377\n",
      "2153    3144.399915\n",
      "2154    3147.287955\n",
      "2155    3150.167521\n",
      "2156    3153.038638\n",
      "2157    3155.901332\n",
      "2158    3158.755626\n",
      "2159    3161.601546\n",
      "2160    3164.439116\n",
      "2161    3167.268360\n",
      "2162    3170.089303\n",
      "2163    3172.901969\n",
      "2164    3175.706383\n",
      "2165    3178.502569\n",
      "2166    3181.290551\n",
      "Name: predicted_mean, dtype: float64\n"
     ]
    },
    {
     "name": "stderr",
     "output_type": "stream",
     "text": [
      "c:\\Users\\tejat\\AppData\\Local\\Programs\\Python\\Python311\\Lib\\site-packages\\statsmodels\\tsa\\statespace\\representation.py:374: FutureWarning: Unknown keyword arguments: dict_keys(['typ']).Passing unknown keyword arguments will raise a TypeError beginning in version 0.15.\n",
      "  warnings.warn(msg, FutureWarning)\n"
     ]
    }
   ],
   "source": [
    "pred=model.predict(start=len(train_data),end=len(train_data+test_data)-1,typ='levels')\n",
    "print(pred)"
   ]
  },
  {
   "cell_type": "markdown",
   "metadata": {},
   "source": [
    "# 8. Plot predictions and true values"
   ]
  },
  {
   "cell_type": "code",
   "execution_count": 75,
   "metadata": {},
   "outputs": [
    {
     "data": {
      "text/plain": [
       "3272.266666666667"
      ]
     },
     "execution_count": 75,
     "metadata": {},
     "output_type": "execute_result"
    },
    {
     "data": {
      "image/png": "[encoded data removed]",
      "text/plain": [
       "<Figure size 640x480 with 1 Axes>"
      ]
     },
     "metadata": {},
     "output_type": "display_data"
    }
   ],
   "source": [
    "pred.plot(legend=True)\n",
    "test_data['Page.Loads'].plot(legend=True)\n",
    "test_data['Page.Loads'].mean()"
   ]
  },
  {
   "cell_type": "markdown",
   "metadata": {},
   "source": [
    "The graph looks that our model predicted with less accuracy but it's ok that we are just predicting anomalies."
   ]
  },
  {
   "cell_type": "markdown",
   "metadata": {},
   "source": [
    "# 9. Evaluate metrics"
   ]
  },
  {
   "cell_type": "code",
   "execution_count": 76,
   "metadata": {},
   "outputs": [
    {
     "name": "stdout",
     "output_type": "stream",
     "text": [
      "604.6941705224817\n"
     ]
    }
   ],
   "source": [
    "import math\n",
    "from sklearn.metrics import mean_squared_error\n",
    "rmse=math.sqrt(mean_squared_error(pred,test_data['Page.Loads']))\n",
    "print(rmse)"
   ]
  },
  {
   "cell_type": "markdown",
   "metadata": {},
   "source": [
    "We had got rmse of 604 and mean of 3272. 604/3272 which is approximately 18.5% . This may not meet requirements but its good as comapred to our data."
   ]
  },
  {
   "cell_type": "markdown",
   "metadata": {},
   "source": [
    "# 10. Set Threshold to detect anomalies"
   ]
  },
  {
   "cell_type": "code",
   "execution_count": 77,
   "metadata": {},
   "outputs": [
    {
     "name": "stdout",
     "output_type": "stream",
     "text": [
      "Anomalies Detected:\n",
      "2139     767.842641\n",
      "2141    -709.073347\n",
      "2143     885.952053\n",
      "2144     676.977893\n",
      "2145     782.012460\n",
      "2148    -824.831737\n",
      "2150     730.315296\n",
      "2151     687.401685\n",
      "2155    -927.167521\n",
      "2162    -949.089303\n",
      "2166   -1117.290551\n",
      "dtype: float64\n"
     ]
    }
   ],
   "source": [
    "residuals=test_data['Page.Loads']-pred\n",
    "threshold=1.0*residuals.std()\n",
    "anomalies=residuals[abs(residuals)>threshold]\n",
    "print('Anomalies Detected:')\n",
    "print(anomalies)"
   ]
  },
  {
   "cell_type": "markdown",
   "metadata": {},
   "source": [
    "We had set some threshold and observed which samples have very large difference in predicted and true values"
   ]
  },
  {
   "cell_type": "markdown",
   "metadata": {},
   "source": [
    "# 11.Plot Anomalies "
   ]
  },
  {
   "cell_type": "code",
   "execution_count": 78,
   "metadata": {},
   "outputs": [
    {
     "data": {
      "image/png": "[encoded data removed]",
      "text/plain": [
       "<Figure size 1200x600 with 1 Axes>"
      ]
     },
     "metadata": {},
     "output_type": "display_data"
    }
   ],
   "source": [
    "import matplotlib.pyplot as plt\n",
    "\n",
    "plt.figure(figsize=(12, 6))\n",
    "plt.plot(test_data.index, test_data['Page.Loads'], label='Actual')\n",
    "plt.plot(test_data.index, pred, label='Predicted', color='orange')\n",
    "plt.scatter(anomalies.index, test_data.loc[anomalies.index, 'Page.Loads'], color='red', label='Anomalies')\n",
    "plt.legend()\n",
    "plt.show()\n"
   ]
  },
  {
   "cell_type": "markdown",
   "metadata": {},
   "source": [
    "The red dots are anomalies for the dataset with pag loads column."
   ]
  }
 ],
 "metadata": {
  "kernelspec": {
   "display_name": "Python 3",
   "language": "python",
   "name": "python3"
  },
  "language_info": {
   "codemirror_mode": {
    "name": "ipython",
    "version": 3
   },
   "file_extension": ".py",
   "mimetype": "text/x-python",
   "name": "python",
   "nbconvert_exporter": "python",
   "pygments_lexer": "ipython3",
   "version": "3.11.4"
  }
 },
 "nbformat": 4,
 "nbformat_minor": 2
}
